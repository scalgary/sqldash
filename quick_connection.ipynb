{
 "cells": [
  {
   "cell_type": "code",
   "execution_count": 2,
   "id": "cf7040ae",
   "metadata": {},
   "outputs": [
    {
     "name": "stdout",
     "output_type": "stream",
     "text": [
      "(1, '295847284', 'adventure-works\\\\ken0', 'Chief Executive Officer', datetime.date(1969, 1, 29), 'S', 'M', datetime.date(2009, 1, 14), True, 99, 69, True, 'f01251e5-96a3-448d-981e-0f99d789110d', datetime.datetime(2014, 6, 30, 0, 0), '/')\n",
      "(2, '245797967', 'adventure-works\\\\terri0', 'Vice President of Engineering', datetime.date(1971, 8, 1), 'S', 'F', datetime.date(2008, 1, 31), True, 1, 20, True, '45e8f437-670d-4409-93cb-f9424a40d6ee', datetime.datetime(2014, 6, 30, 0, 0), '/1/')\n",
      "(3, '509647174', 'adventure-works\\\\roberto0', 'Engineering Manager', datetime.date(1974, 11, 12), 'M', 'M', datetime.date(2007, 11, 11), True, 2, 21, True, '9bbbfb2c-efbb-4217-9ab7-f97689328841', datetime.datetime(2014, 6, 30, 0, 0), '/1/1/')\n",
      "(4, '112457891', 'adventure-works\\\\rob0', 'Senior Tool Designer', datetime.date(1974, 12, 23), 'S', 'M', datetime.date(2007, 12, 5), False, 48, 80, True, '59747955-87b8-443f-8ed4-f8ad3afdf3a9', datetime.datetime(2014, 6, 30, 0, 0), '/1/1/1/')\n",
      "(5, '695256908', 'adventure-works\\\\gail0', 'Design Engineer', datetime.date(1952, 9, 27), 'M', 'F', datetime.date(2008, 1, 6), True, 5, 22, True, 'ec84ae09-f9b8-4a15-b4a9-6ccbab919b08', datetime.datetime(2014, 6, 30, 0, 0), '/1/1/2/')\n",
      "(6, '998320692', 'adventure-works\\\\jossef0', 'Design Engineer', datetime.date(1959, 3, 11), 'M', 'M', datetime.date(2008, 1, 24), True, 6, 23, True, 'e39056f1-9cd5-478d-8945-14aca7fbdcdd', datetime.datetime(2014, 6, 30, 0, 0), '/1/1/3/')\n",
      "(7, '134969118', 'adventure-works\\\\dylan0', 'Research and Development Manager', datetime.date(1987, 2, 24), 'M', 'M', datetime.date(2009, 2, 8), True, 61, 50, True, '4f46deca-ef01-41fd-9829-0adab368e431', datetime.datetime(2014, 6, 30, 0, 0), '/1/1/4/')\n",
      "(8, '811994146', 'adventure-works\\\\diane1', 'Research and Development Engineer', datetime.date(1986, 6, 5), 'S', 'F', datetime.date(2008, 12, 29), True, 62, 51, True, '31112635-663b-4018-b4a2-a685c0bf48a4', datetime.datetime(2014, 6, 30, 0, 0), '/1/1/4/1/')\n",
      "(9, '658797903', 'adventure-works\\\\gigi0', 'Research and Development Engineer', datetime.date(1979, 1, 21), 'M', 'F', datetime.date(2009, 1, 16), True, 63, 51, True, '50b6cdc6-7570-47ef-9570-48a64b5f2ecf', datetime.datetime(2014, 6, 30, 0, 0), '/1/1/4/2/')\n",
      "(10, '879342154', 'adventure-works\\\\michael6', 'Research and Development Manager', datetime.date(1984, 11, 30), 'M', 'M', datetime.date(2009, 5, 3), True, 16, 64, True, 'eaa43680-5571-40cb-ab1a-3bf68f04459e', datetime.datetime(2014, 6, 30, 0, 0), '/1/1/4/3/')\n"
     ]
    }
   ],
   "source": [
    "import psycopg2\n",
    "\n",
    "# Connexion à la base de données\n",
    "conn = psycopg2.connect(\n",
    "    dbname=\"Adventureworks\",\n",
    "    user=\"passion\",           # remplace si ton utilisateur est différent\n",
    "    password=\"secret\",         # adapte au bon mot de passe\n",
    "    host=\"localhost\",\n",
    "    port=\"5432\"\n",
    ")\n",
    "\n",
    "# Créer un curseur\n",
    "cur = conn.cursor()\n",
    "\n",
    "# Exemple de requête : afficher les 5 premières personnes\n",
    "cur.execute(\"SELECT * FROM humanresources.employee LIMIT 10;\")\n",
    "\n",
    "# Récupérer les résultats\n",
    "rows = cur.fetchall()\n",
    "\n",
    "# Afficher les résultats\n",
    "for row in rows:\n",
    "    print(row)\n",
    "\n",
    "# Fermer la connexion\n",
    "cur.close()\n",
    "conn.close()"
   ]
  },
  {
   "cell_type": "code",
   "execution_count": 3,
   "id": "95143a18",
   "metadata": {},
   "outputs": [
    {
     "name": "stdout",
     "output_type": "stream",
     "text": [
      "✅ La table existe. Voici les colonnes :\n",
      "• salesorderid (integer)\n",
      "• salesorderdetailid (integer)\n",
      "• carriertrackingnumber (character varying)\n",
      "• orderqty (smallint)\n",
      "• productid (integer)\n",
      "• specialofferid (integer)\n",
      "• unitprice (numeric)\n",
      "• unitpricediscount (numeric)\n",
      "• rowguid (uuid)\n",
      "• modifieddate (timestamp without time zone)\n"
     ]
    }
   ],
   "source": [
    "import psycopg2\n",
    "\n",
    "conn = psycopg2.connect(\n",
    "    dbname=\"Adventureworks\",\n",
    "    user=\"passion\",\n",
    "    password=\"secret\",\n",
    "    host=\"localhost\",\n",
    "    port=\"5432\"\n",
    ")\n",
    "\n",
    "cur = conn.cursor()\n",
    "\n",
    "# Vérifie si la table existe\n",
    "cur.execute(\"\"\"\n",
    "SELECT EXISTS (\n",
    "    SELECT 1\n",
    "    FROM information_schema.tables \n",
    "    WHERE table_schema = 'sales'\n",
    "    AND table_name = 'salesorderdetail'\n",
    ");\n",
    "\"\"\")\n",
    "exists = cur.fetchone()[0]\n",
    "\n",
    "if exists:\n",
    "    print(\"✅ La table existe. Voici les colonnes :\")\n",
    "    \n",
    "    # Lister les colonnes de la table\n",
    "    cur.execute(\"\"\"\n",
    "        SELECT column_name, data_type\n",
    "        FROM information_schema.columns\n",
    "        WHERE table_schema = 'sales'\n",
    "        AND table_name = 'salesorderdetail'\n",
    "        ORDER BY ordinal_position;\n",
    "    \"\"\")\n",
    "    \n",
    "    columns = cur.fetchall()\n",
    "    \n",
    "    for name, dtype in columns:\n",
    "        print(f\"• {name} ({dtype})\")\n",
    "else:\n",
    "    print(\"❌ La table sales.salesorderdetail n'existe pas.\")\n",
    "\n",
    "cur.close()\n",
    "conn.close()"
   ]
  }
 ],
 "metadata": {
  "kernelspec": {
   "display_name": ".env",
   "language": "python",
   "name": "python3"
  },
  "language_info": {
   "codemirror_mode": {
    "name": "ipython",
    "version": 3
   },
   "file_extension": ".py",
   "mimetype": "text/x-python",
   "name": "python",
   "nbconvert_exporter": "python",
   "pygments_lexer": "ipython3",
   "version": "3.12.8"
  }
 },
 "nbformat": 4,
 "nbformat_minor": 5
}
